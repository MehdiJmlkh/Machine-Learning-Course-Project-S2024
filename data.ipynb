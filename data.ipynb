{
 "cells": [
  {
   "cell_type": "code",
   "execution_count": 27,
   "metadata": {},
   "outputs": [],
   "source": [
    "import numpy as np\n",
    "import matplotlib.pyplot as plt\n",
    "from scipy.io import loadmat "
   ]
  },
  {
   "cell_type": "code",
   "execution_count": 2,
   "metadata": {},
   "outputs": [
    {
     "data": {
      "text/plain": [
       "dict_keys(['__header__', '__version__', '__globals__', 'mrk', 'cnt', 'nfo'])"
      ]
     },
     "execution_count": 2,
     "metadata": {},
     "output_type": "execute_result"
    }
   ],
   "source": [
    "data = loadmat('BCICIV_1_mat\\BCICIV_calib_ds1a.mat')\n",
    "data.keys()"
   ]
  },
  {
   "cell_type": "code",
   "execution_count": 55,
   "metadata": {},
   "outputs": [],
   "source": [
    "WINDOW_START_POINT = 0.5\n",
    "WINDOW_END_POINT = 2.5"
   ]
  },
  {
   "cell_type": "code",
   "execution_count": 54,
   "metadata": {},
   "outputs": [],
   "source": [
    "sampling_frequency = data['nfo']['fs'][0][0][0][0]\n",
    "EEGsignal = data['cnt'].T\n",
    "n_channels, n_samples = EEGsignal.shape\n",
    "trial_onsets = data['mrk'][0][0][0]\n",
    "trial_codes = data['mrk'][0][0][1]\n",
    "labels = np.zeros(n_samples)\n",
    "labels[trial_onsets] = trial_codes\n",
    "class_labels = [x[0] for x in data['nfo']['classes'][0][0][0]]\n",
    "n_classes = len(class_labels)\n",
    "n_trails = len(trial_onsets)"
   ]
  },
  {
   "cell_type": "code",
   "execution_count": 57,
   "metadata": {},
   "outputs": [],
   "source": [
    "window = np.arange(int(WINDOW_START_POINT*sampling_frequency), int(WINDOW_END_POINT*sampling_frequency))\n",
    "n_samples_per_trail = len(window)"
   ]
  },
  {
   "cell_type": "code",
   "execution_count": 59,
   "metadata": {},
   "outputs": [],
   "source": [
    "trials = {}\n",
    "for label, code in zip(class_labels, np.unique(trial_codes)):\n",
    "    class_onsets = trial_onsets[trial_codes == code]\n",
    "    trials[label] = np.zeros((len(class_onsets), n_channels, n_samples_per_trail))\n",
    "    for i, oneset in enumerate(class_onsets):\n",
    "        trials[label][i, :, :] = EEGsignal[:, window + oneset]"
   ]
  },
  {
   "cell_type": "code",
   "execution_count": 61,
   "metadata": {},
   "outputs": [
    {
     "name": "stdout",
     "output_type": "stream",
     "text": [
      "Shape of trials[cl1]: (100, 59, 200)\n",
      "Shape of trials[cl2]: (100, 59, 200)\n"
     ]
    }
   ],
   "source": [
    "print('Shape of trials[cl1]:', trials[class_labels[0]].shape)\n",
    "print('Shape of trials[cl2]:', trials[class_labels[1]].shape)"
   ]
  }
 ],
 "metadata": {
  "kernelspec": {
   "display_name": "Python 3",
   "language": "python",
   "name": "python3"
  },
  "language_info": {
   "codemirror_mode": {
    "name": "ipython",
    "version": 3
   },
   "file_extension": ".py",
   "mimetype": "text/x-python",
   "name": "python",
   "nbconvert_exporter": "python",
   "pygments_lexer": "ipython3",
   "version": "3.9.12"
  }
 },
 "nbformat": 4,
 "nbformat_minor": 2
}
