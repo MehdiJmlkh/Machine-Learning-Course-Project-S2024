{
 "cells": [
  {
   "cell_type": "code",
   "execution_count": 45,
   "metadata": {},
   "outputs": [],
   "source": [
    "import numpy as np\n",
    "from scipy.io import loadmat "
   ]
  },
  {
   "cell_type": "code",
   "execution_count": 4,
   "metadata": {},
   "outputs": [
    {
     "data": {
      "text/plain": [
       "dict_keys(['__header__', '__version__', '__globals__', 'mrk', 'cnt', 'nfo'])"
      ]
     },
     "execution_count": 4,
     "metadata": {},
     "output_type": "execute_result"
    }
   ],
   "source": [
    "data = loadmat('BCICIV_1_mat\\BCICIV_calib_ds1a.mat')\n",
    "data.keys()"
   ]
  },
  {
   "cell_type": "code",
   "execution_count": 40,
   "metadata": {},
   "outputs": [],
   "source": [
    "sampling_frequency = data['nfo']['fs'][0][0][0][0]\n",
    "EEGsignal = data['cnt'].T\n",
    "n_channels, n_samples = EEGsignal.shape\n",
    "channel_names = [c[0] for c in data['nfo']['clab'][0][0][0]]\n",
    "action_index = data['mrk']['pos'][0][0][0]\n",
    "action_label = data['mrk']['y'][0][0][0]\n",
    "labels = np.empty((n_samples), dtype=int)\n",
    "labels[action_index] = action_label\n",
    "class_labels = [c[0] for c in data['nfo']['classes'][0][0][0]]"
   ]
  },
  {
   "cell_type": "code",
   "execution_count": 47,
   "metadata": {},
   "outputs": [],
   "source": [
    "trials= {}\n",
    "\n",
    "window = np.arange(0, 2*sampling_frequency)\n",
    "\n",
    "n_signals = len(window)\n",
    "\n",
    "\n",
    "for cl, label in zip(class_labels, np.unique(action_label)):\n",
    "    class_idx = action_index[action_label == label]\n",
    "    trials[cl] = np.zeros((n_channels, n_signals, len(class_idx)))\n",
    "    for idx, c_idx in enumerate(class_idx):\n",
    "        trials[cl][:, :, idx] = EEGsignal[:, window + c_idx]"
   ]
  },
  {
   "cell_type": "code",
   "execution_count": 48,
   "metadata": {},
   "outputs": [
    {
     "name": "stdout",
     "output_type": "stream",
     "text": [
      "(59, 200, 100)\n",
      "(59, 200, 100)\n"
     ]
    }
   ],
   "source": [
    "print(trials[class_labels[0]].shape)\n",
    "print(trials[class_labels[1]].shape)"
   ]
  }
 ],
 "metadata": {
  "kernelspec": {
   "display_name": "Python 3",
   "language": "python",
   "name": "python3"
  },
  "language_info": {
   "codemirror_mode": {
    "name": "ipython",
    "version": 3
   },
   "file_extension": ".py",
   "mimetype": "text/x-python",
   "name": "python",
   "nbconvert_exporter": "python",
   "pygments_lexer": "ipython3",
   "version": "3.9.12"
  }
 },
 "nbformat": 4,
 "nbformat_minor": 2
}
