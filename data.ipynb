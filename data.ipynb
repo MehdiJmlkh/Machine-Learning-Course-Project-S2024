{
 "cells": [
  {
   "cell_type": "code",
   "execution_count": 27,
   "metadata": {},
   "outputs": [],
   "source": [
    "import numpy as np\n",
    "import matplotlib.pyplot as plt\n",
    "from scipy.io import loadmat "
   ]
  },
  {
   "cell_type": "code",
   "execution_count": 65,
   "metadata": {},
   "outputs": [],
   "source": [
    "class Dataset:\n",
    "    def __init__(self,\n",
    "                 file_path,\n",
    "                 window_start_point = 0.5,\n",
    "                 window_end_point = 2.5):\n",
    "        self.data = loadmat(file_name=file_path)\n",
    "        self.window_start_point = window_start_point\n",
    "        self.window_end_point = window_end_point\n",
    "        self.sampling_frequency = self.data['nfo']['fs'][0][0][0][0]\n",
    "        self.EEGsignal = self.data['cnt'].T\n",
    "        self.n_channels, self.n_samples = self.EEGsignal.shape\n",
    "        self.trial_onsets = self.data['mrk'][0][0][0]\n",
    "        self.trial_codes = self.data['mrk'][0][0][1]\n",
    "        self.labels = np.zeros(self.n_samples)\n",
    "        self.labels[self.trial_onsets] = self.trial_codes\n",
    "        self.class_labels = [x[0] for x in self.data['nfo']['classes'][0][0][0]]\n",
    "        self.n_classes = len(self.class_labels)\n",
    "        self.n_trails = len(self.trial_onsets)\n",
    "        self.window = np.arange(int(self.window_start_point*self.sampling_frequency), int(self.window_end_point*self.sampling_frequency))\n",
    "        self.n_samples_per_trail = len(self.window)\n",
    "        self.trials = {}\n",
    "        for label, code in zip(self.class_labels, np.unique(self.trial_codes)):\n",
    "            class_onsets = self.trial_onsets[self.trial_codes == code]\n",
    "            self.trials[label] = np.zeros((len(class_onsets), self.n_channels, self.n_samples_per_trail))\n",
    "            for i, oneset in enumerate(class_onsets):\n",
    "                self.trials[label][i, :, :] = self.EEGsignal[:, self.window + oneset]\n",
    "\n",
    "    \n",
    "        "
   ]
  }
 ],
 "metadata": {
  "kernelspec": {
   "display_name": "Python 3",
   "language": "python",
   "name": "python3"
  },
  "language_info": {
   "codemirror_mode": {
    "name": "ipython",
    "version": 3
   },
   "file_extension": ".py",
   "mimetype": "text/x-python",
   "name": "python",
   "nbconvert_exporter": "python",
   "pygments_lexer": "ipython3",
   "version": "3.9.12"
  }
 },
 "nbformat": 4,
 "nbformat_minor": 2
}
